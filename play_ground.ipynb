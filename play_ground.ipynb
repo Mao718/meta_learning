{
 "cells": [
  {
   "cell_type": "code",
   "execution_count": 1,
   "id": "0d4317e8",
   "metadata": {},
   "outputs": [],
   "source": [
    "from model.black_box import *\n",
    "import torch"
   ]
  },
  {
   "cell_type": "code",
   "execution_count": 2,
   "id": "0c3f1967",
   "metadata": {},
   "outputs": [],
   "source": [
    "model = MANN(1,5,64,32)"
   ]
  },
  {
   "cell_type": "code",
   "execution_count": 3,
   "id": "110fc988",
   "metadata": {},
   "outputs": [
    {
     "data": {
      "text/plain": [
       "MANN(\n",
       "  (lstm1): LSTM(37, 128, batch_first=True)\n",
       "  (lstm2): LSTM(128, 5, batch_first=True)\n",
       ")"
      ]
     },
     "execution_count": 3,
     "metadata": {},
     "output_type": "execute_result"
    }
   ],
   "source": [
    "model"
   ]
  },
  {
   "cell_type": "code",
   "execution_count": 4,
   "id": "05f272c5",
   "metadata": {},
   "outputs": [],
   "source": [
    "test = torch.rand((1,10,37))"
   ]
  },
  {
   "cell_type": "code",
   "execution_count": 6,
   "id": "29ae2643",
   "metadata": {},
   "outputs": [],
   "source": [
    "x = model(test)#.shape"
   ]
  },
  {
   "cell_type": "code",
   "execution_count": 7,
   "id": "86ecff2e",
   "metadata": {},
   "outputs": [
    {
     "data": {
      "text/plain": [
       "torch.Size([1, 10, 5])"
      ]
     },
     "execution_count": 7,
     "metadata": {},
     "output_type": "execute_result"
    }
   ],
   "source": [
    "x.shape"
   ]
  },
  {
   "cell_type": "code",
   "execution_count": 8,
   "id": "e167fcc7",
   "metadata": {},
   "outputs": [
    {
     "data": {
      "text/plain": [
       "MANN(\n",
       "  (lstm1): LSTM(37, 128, batch_first=True)\n",
       "  (lstm2): LSTM(128, 5, batch_first=True)\n",
       ")"
      ]
     },
     "execution_count": 8,
     "metadata": {},
     "output_type": "execute_result"
    }
   ],
   "source": [
    "model"
   ]
  },
  {
   "cell_type": "code",
   "execution_count": null,
   "id": "bdd70b43",
   "metadata": {},
   "outputs": [],
   "source": []
  }
 ],
 "metadata": {
  "kernelspec": {
   "display_name": "Python 3 (ipykernel)",
   "language": "python",
   "name": "python3"
  },
  "language_info": {
   "codemirror_mode": {
    "name": "ipython",
    "version": 3
   },
   "file_extension": ".py",
   "mimetype": "text/x-python",
   "name": "python",
   "nbconvert_exporter": "python",
   "pygments_lexer": "ipython3",
   "version": "3.9.12"
  }
 },
 "nbformat": 4,
 "nbformat_minor": 5
}
